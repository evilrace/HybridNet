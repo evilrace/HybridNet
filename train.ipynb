{
 "cells": [
  {
   "cell_type": "code",
   "execution_count": null,
   "metadata": {},
   "outputs": [],
   "source": [
    "import data.dataset as dataset\n",
    "\n",
    "from models.model import HybridNet\n",
    "from utils.anchors import Anchor\n",
    "from utils.labels import decode_detection_output, get_detection_labels\n",
    "from torch.utils.data import Subset\n",
    "import torch\n",
    "import torchvision\n",
    "import numpy as np\n",
    "import tqdm\n",
    "import cv2\n",
    "from loss.detection_loss import DetLoss\n",
    "from loss.segmentation_loss import SegLoss\n",
    "import matplotlib.pyplot as plt\n",
    "import matplotlib.patches as patches\n",
    "from data.dataset import DetectionLabelDataset\n",
    "\n"
   ]
  },
  {
   "cell_type": "code",
   "execution_count": null,
   "metadata": {},
   "outputs": [],
   "source": [
    "detection_class_num = 8\n",
    "img_size = (375, 1242)\n",
    "anchor_generator = Anchor(img_size)\n",
    "detection_datset = DetectionLabelDataset(img_size, anchor_generator.anchors_list, get_detection_labels)\n",
    "segment_dataset = dataset.SegmentDataset()\n"
   ]
  },
  {
   "cell_type": "code",
   "execution_count": null,
   "metadata": {},
   "outputs": [],
   "source": [
    "img_transform = torchvision.transforms.Compose(\n",
    "    [torchvision.transforms.Resize(512, interpolation=torchvision.transforms.InterpolationMode.NEAREST)]\n",
    ")\n",
    "\n",
    "def segmentation_rescale(X):\n",
    "    img_batch = []\n",
    "    label_batch = []\n",
    "    for img, label in X:\n",
    "        img = img_transform(img)\n",
    "        label = img_transform(label)\n",
    "        img_batch.append(img)\n",
    "        label_batch.append(label)\n",
    "    return torch.stack(img_batch,dim=0), torch.stack(label_batch,dim=0)\n",
    "\n",
    "detection_dataloader = torch.utils.data.DataLoader(detection_datset, shuffle=True, batch_size=8)\n",
    "segment_dataloader = torch.utils.data.DataLoader(segment_dataset, shuffle=True, batch_size=8, collate_fn = segmentation_rescale)\n",
    "\n",
    "torch.save(detection_dataloader, \"detection_dataset.pt\")\n",
    "torch.save(segment_dataloader, \"segment_dataset.pt\")\n",
    "\n",
    "\n"
   ]
  },
  {
   "cell_type": "code",
   "execution_count": null,
   "metadata": {},
   "outputs": [],
   "source": [
    "# visualization detection label\n",
    "\n",
    "anchors = list()\n",
    "for anchor in anchor_generator.anchors_list[3:9]:\n",
    "    anchor = anchor.reshape(-1,4)\n",
    "    anchors.append(anchor)\n",
    "\n",
    "anchors = torch.concatenate(anchors, 0)\n",
    "\n",
    "batch_sample = next(iter(detection_dataloader))\n",
    "\n",
    "fig, axes = plt.subplots(2,2, figsize=(24,8))\n",
    "for i in range(4):\n",
    "    sample_img = batch_sample[0][i]\n",
    "    sample_box = batch_sample[1][i]\n",
    "    sample_img = torch.permute(sample_img, (1,2,0))\n",
    "    axes[i%2, i//2].imshow(sample_img)\n",
    "    axes[i%2, i//2].axis('off')\n",
    "    sample_cls = sample_box[:,0]\n",
    "    object_ids = torch.where(sample_cls>0)\n",
    "    sample_box = sample_box[:,1:]\n",
    "    decoded_sample_box = decode_detection_output(anchors, sample_box)\n",
    "    for ids in object_ids[0]:\n",
    "        bbox = decoded_sample_box[ids]\n",
    "        axes[i%2, i//2].add_patch(\n",
    "            patches.Rectangle(\n",
    "                (bbox[0] - bbox[2]/2, bbox[1] - bbox[3]/2),\n",
    "                bbox[2], bbox[3],\n",
    "                edgecolor='red',\n",
    "                facecolor='none'\n",
    "            )\n",
    "        )\n"
   ]
  },
  {
   "cell_type": "code",
   "execution_count": null,
   "metadata": {},
   "outputs": [],
   "source": [
    "net = HybridNet(128, anchor_generator.anchor_nums, detection_class_num)\n",
    "net = net.to('cuda')"
   ]
  },
  {
   "cell_type": "code",
   "execution_count": null,
   "metadata": {},
   "outputs": [],
   "source": [
    "# run segmentation training\n",
    "import tqdm\n",
    "\n",
    "def train_segmentation_task(net, segment_dataloader):\n",
    "    loss = SegLoss()\n",
    "    optimizer = torch.optim.Adam(net.parameters())\n",
    "    pbar = tqdm.tqdm(total = len(segment_dataloader))\n",
    "    acc_accum = 0\n",
    "    acc_size = 0\n",
    "    for batch in segment_dataloader:\n",
    "        X, y = batch\n",
    "        X, y = X.to('cuda'), y.to('cuda')\n",
    "        y = torch.where(y==7, 1, 0)\n",
    "        y = y.float()\n",
    "        X = X / 255.0\n",
    "        pred = net(X)\n",
    "        pred_seg, pred_det= pred\n",
    "        loss_score, acc = loss(pred_seg, y)\n",
    "        optimizer.zero_grad()\n",
    "        loss_score.backward()\n",
    "        optimizer.step()\n",
    "        acc_size += y.size()[0] * y.size()[1] * y.size()[2] * y.size()[3]\n",
    "        acc_accum += acc.sum()\n",
    "        acc = (acc_accum / acc_size).item()\n",
    "        pbar.set_description(f\"loss:{loss_score:.3f}, acc:{acc*100:.3f}%\")\n",
    "        pbar.update()\n",
    "    pbar.close()\n"
   ]
  },
  {
   "cell_type": "code",
   "execution_count": null,
   "metadata": {},
   "outputs": [],
   "source": [
    "# run detection training \n",
    "\n",
    "def train_detection_task(net, detection_dataloader):\n",
    "    loss = DetLoss(detection_class_num)\n",
    "    optimizer = torch.optim.Adam(net.parameters())\n",
    "\n",
    "    pbar = tqdm.tqdm(total = len(detection_dataloader))\n",
    "    for batch in detection_dataloader:\n",
    "        X, y = batch\n",
    "        X, y = X.to('cuda'), y.to('cuda')\n",
    "        X = X / 255.0\n",
    "        pred = net(X)\n",
    "        pred_seg, pred_det = pred\n",
    "        all_loss,cls_loss,box_loss = loss(pred_det, y)\n",
    "        optimizer.zero_grad()\n",
    "        all_loss.backward()\n",
    "        optimizer.step()\n",
    "        pbar.set_description(f\"loss:{all_loss:.3f}, cls_loss{cls_loss:.3f}, box_loss{box_loss:.3f}\")\n",
    "        pbar.update()\n",
    "    pbar.close()\n"
   ]
  },
  {
   "cell_type": "code",
   "execution_count": null,
   "metadata": {},
   "outputs": [],
   "source": [
    "# multi task learning\n",
    "for i in range(10):\n",
    "        train_detection_task(net, detection_dataloader)\n",
    "        train_segmentation_task(net, segment_dataloader)\n",
    "        torch.save(net, f'trained_model_{i}.pth')"
   ]
  }
 ],
 "metadata": {
  "kernelspec": {
   "display_name": "Python 3",
   "language": "python",
   "name": "python3"
  },
  "language_info": {
   "name": "python",
   "version": "3.9.13 (tags/v3.9.13:6de2ca5, May 17 2022, 16:36:42) [MSC v.1929 64 bit (AMD64)]"
  },
  "orig_nbformat": 4,
  "vscode": {
   "interpreter": {
    "hash": "f5f227904729d2e34638b12d6189826106a201c215150695c35e0f334bf03903"
   }
  }
 },
 "nbformat": 4,
 "nbformat_minor": 2
}
